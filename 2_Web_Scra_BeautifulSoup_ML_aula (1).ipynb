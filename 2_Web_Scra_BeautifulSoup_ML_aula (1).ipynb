{
 "cells": [
  {
   "cell_type": "markdown",
   "id": "7240f6b8-11c3-4bfd-9103-f6224d8e8874",
   "metadata": {},
   "source": [
    "## Utilizando Web-Scraping para fazer pesquisa de preço"
   ]
  },
  {
   "cell_type": "markdown",
   "id": "e1888c26-7e2d-45de-b11a-631470a79311",
   "metadata": {},
   "source": [
    "#### Passo 1: instalar bibliotecas"
   ]
  },
  {
   "cell_type": "code",
   "execution_count": 74,
   "id": "9284d53d-5191-4bd5-a4f5-52f62a9d8e5c",
   "metadata": {},
   "outputs": [
    {
     "name": "stdout",
     "output_type": "stream",
     "text": [
      "Defaulting to user installation because normal site-packages is not writeable\n",
      "Requirement already satisfied: requests in c:\\programdata\\anaconda3\\lib\\site-packages (2.32.3)\n",
      "Requirement already satisfied: charset-normalizer<4,>=2 in c:\\programdata\\anaconda3\\lib\\site-packages (from requests) (3.3.2)\n",
      "Requirement already satisfied: idna<4,>=2.5 in c:\\programdata\\anaconda3\\lib\\site-packages (from requests) (3.7)\n",
      "Requirement already satisfied: urllib3<3,>=1.21.1 in c:\\users\\faculdade\\appdata\\roaming\\python\\python312\\site-packages (from requests) (2.5.0)\n",
      "Requirement already satisfied: certifi>=2017.4.17 in c:\\users\\faculdade\\appdata\\roaming\\python\\python312\\site-packages (from requests) (2025.8.3)\n",
      "Defaulting to user installation because normal site-packages is not writeable\n",
      "Requirement already satisfied: beautifulsoup4 in c:\\programdata\\anaconda3\\lib\\site-packages (4.12.3)\n",
      "Requirement already satisfied: soupsieve>1.2 in c:\\programdata\\anaconda3\\lib\\site-packages (from beautifulsoup4) (2.5)\n"
     ]
    }
   ],
   "source": [
    "# Remova o comentário(#) da linha abaixo caso esteja executando este script pela primeira vez\n",
    "!pip install requests\n",
    "!pip install beautifulsoup4"
   ]
  },
  {
   "cell_type": "markdown",
   "id": "ac61bf69-5175-4db4-8d63-dcd4e3565549",
   "metadata": {},
   "source": [
    "#### Passo 2: Importar bibliotecas"
   ]
  },
  {
   "cell_type": "code",
   "execution_count": 75,
   "id": "85835e40-e721-4d5f-8de7-dfed08a3d98c",
   "metadata": {},
   "outputs": [],
   "source": [
    "import pandas as pd\n",
    "import requests\n",
    "from bs4 import BeautifulSoup"
   ]
  },
  {
   "cell_type": "markdown",
   "id": "83c1cbb8-2bd8-4505-9d27-48919887c2ac",
   "metadata": {},
   "source": [
    "#### Passo 3: Formatar link de busca"
   ]
  },
  {
   "cell_type": "code",
   "execution_count": 76,
   "id": "7db42294-69a9-452a-bb41-c9ee18cc5adf",
   "metadata": {
    "scrolled": true
   },
   "outputs": [
    {
     "name": "stdout",
     "output_type": "stream",
     "text": [
      "https://lista.mercadolivre.com.br/smart-tv-70\n"
     ]
    }
   ],
   "source": [
    "# 1) Copiar o modelo de link de busca\n",
    "url_de_busca = 'https://lista.mercadolivre.com.br/'\n",
    "\n",
    "# 2) Informar a palavra chave para busca\n",
    "palavra_chave = 'smart tv 70'\n",
    "\n",
    "# 3) Formatar a palavra chave conforme modelo deste site\n",
    "palavra_chave = palavra_chave.replace(' ','-')\n",
    "\n",
    "# 4) Formar o link\n",
    "link = url_de_busca+palavra_chave\n",
    "print(link)"
   ]
  },
  {
   "cell_type": "markdown",
   "id": "1475c782-23b4-4dee-a926-aa6a43681eea",
   "metadata": {},
   "source": [
    "#### Passo 4: Obter informações do link"
   ]
  },
  {
   "cell_type": "code",
   "execution_count": 77,
   "id": "2bd8fe8a-bb36-47a9-a399-e7b35aebc49e",
   "metadata": {},
   "outputs": [
    {
     "name": "stdout",
     "output_type": "stream",
     "text": [
      "Código de status 403\n"
     ]
    }
   ],
   "source": [
    "#Requisita informações do site\n",
    "response = requests.get(link)\n",
    "\n",
    "# Verifica status de acesso\n",
    "print('Código de status', response.status_code)"
   ]
  },
  {
   "cell_type": "markdown",
   "id": "42d78cd4-57d3-4174-924f-538d0dbb3e9c",
   "metadata": {},
   "source": [
    "Esse **403 Forbidden** acontece porque o Mercado Livre (assim como outros grandes e-commerces) possui mecanismos de proteção contra bots e scrapers simples, e o requests.get() sem nenhum cabeçalho já denuncia que não é um navegador “de verdade”."
   ]
  },
  {
   "cell_type": "markdown",
   "id": "8d258d03-a29b-4461-98d4-0b6233e4be34",
   "metadata": {},
   "source": [
    "#### 4.1 Usar um User-Agent válido\n",
    "\n",
    "Alguns sites **bloqueiam requisições que não parecem vir de navegadores**. Então você pode **enviar cabeçalhos simulando um browser**.\n",
    "\n",
    "##### Para criar um User-Agent (real)\n",
    "- Identifique qual é a versão do seu navegador acessando, por exemplo, a URL chrome://settings/help\n",
    "- Crie um cabeçalho com a versão do seu navegador."
   ]
  },
  {
   "cell_type": "code",
   "execution_count": 78,
   "id": "38ab6549-06af-4945-89fd-31d901c39558",
   "metadata": {},
   "outputs": [
    {
     "name": "stdout",
     "output_type": "stream",
     "text": [
      "Código de status: 403\n"
     ]
    }
   ],
   "source": [
    "#Cabeçalho com User-Agent\n",
    "headers = {'User-Agent': 'Chrome/139.0.7258.139'}\n",
    "\n",
    "#Requisita informações do site\n",
    "response = requests.get(link, headers = headers)\n",
    "\n",
    "\n",
    "#Verifica status de acesso\n",
    "print('Código de status:', response.status_code)"
   ]
  },
  {
   "cell_type": "code",
   "execution_count": 79,
   "id": "e3d85877-c070-4e3b-a857-ea03f6696a4c",
   "metadata": {},
   "outputs": [],
   "source": [
    "# Cria um objeto BeautifulSoup com as informações html\n",
    "soup = BeautifulSoup(response.content, 'html.parser')"
   ]
  },
  {
   "cell_type": "markdown",
   "id": "e2fdf321-03c0-49d3-bdd7-7685c34e0735",
   "metadata": {},
   "source": [
    "#### Passo 5: Encontrar elementos"
   ]
  },
  {
   "cell_type": "code",
   "execution_count": 82,
   "id": "760b3156-e7b7-4836-a295-19684b56c789",
   "metadata": {},
   "outputs": [
    {
     "data": {
      "text/plain": [
       "0"
      ]
     },
     "execution_count": 82,
     "metadata": {},
     "output_type": "execute_result"
    }
   ],
   "source": [
    "resultados = soup.find_all(class_ = 'ui-search-layout__item')\n",
    "\n",
    "len(resultados)"
   ]
  },
  {
   "cell_type": "markdown",
   "id": "38c49211-d52e-4246-a7ba-d69674e70823",
   "metadata": {},
   "source": [
    "#### Passo 6: Visualizar links dos produtos"
   ]
  },
  {
   "cell_type": "code",
   "execution_count": 50,
   "id": "de0046ce-7989-42ed-96b9-09cd57f1bbd9",
   "metadata": {},
   "outputs": [
    {
     "name": "stdout",
     "output_type": "stream",
     "text": [
      "https://www.mercadolivre.com.br/smart-tv-58-philco-led-4k-google-tv-hdr10-p58kga/p/MLB48895726#polycard_client=search-nordic&searchVariation=MLB48895726&wid=MLB4060862571&position=3&search_layout=grid&type=product&tracking_id=c0c26f4f-0a2a-422a-aae5-3c1fe8ce6fd1&sid=search\n",
      "https://www.mercadolivre.com.br/smart-tv-70-crystal-uhd-4k-70du8000-2024-samsung/p/MLB35650763#polycard_client=search-nordic&searchVariation=MLB35650763&wid=MLB4660135102&position=4&search_layout=grid&type=product&tracking_id=c0c26f4f-0a2a-422a-aae5-3c1fe8ce6fd1&sid=search\n",
      "https://www.mercadolivre.com.br/smart-tv-50-philco-ptv50va4regb-roku-tv-led-dolby-audio/p/MLB44408782#polycard_client=search-nordic&searchVariation=MLB44408782&wid=MLB3972474057&position=5&search_layout=grid&type=product&tracking_id=c0c26f4f-0a2a-422a-aae5-3c1fe8ce6fd1&sid=search\n",
      "https://www.mercadolivre.com.br/smart-tv-aoc-roku-led-50-4k-50u612578g-hdmiusb-preto/up/MLBU3044199534#polycard_client=search-nordic&searchVariation=MLBU3044199534&wid=MLB5302118152&position=6&search_layout=grid&type=product&tracking_id=c0c26f4f-0a2a-422a-aae5-3c1fe8ce6fd1&sid=search\n",
      "https://www.mercadolivre.com.br/smart-tv-philips-50-4k-50pug7019-google-tv-comando-de-voz/p/MLB43158430#polycard_client=search-nordic&searchVariation=MLB43158430&wid=MLB3908972845&position=7&search_layout=grid&type=product&tracking_id=c0c26f4f-0a2a-422a-aae5-3c1fe8ce6fd1&sid=search\n",
      "https://www.mercadolivre.com.br/smart-tv-philips-70-4k-google-tv-comando-de-voz-70pug7019/p/MLB50744792#polycard_client=search-nordic&searchVariation=MLB50744792&wid=MLB4110057975&position=8&search_layout=grid&type=product&tracking_id=c0c26f4f-0a2a-422a-aae5-3c1fe8ce6fd1&sid=search\n",
      "https://www.mercadolivre.com.br/smart-tv-50-philco-ptv50va4regb-roku-tv-led-dolby-110220v/up/MLBU3147902903#polycard_client=search-nordic&searchVariation=MLBU3147902903&wid=MLB5370134756&position=9&search_layout=grid&type=product&tracking_id=c0c26f4f-0a2a-422a-aae5-3c1fe8ce6fd1&sid=search\n",
      "https://www.mercadolivre.com.br/smart-tv-philips-50--4k-uhd-google-tv-50pug7019/up/MLBU3316039567#polycard_client=search-nordic&searchVariation=MLBU3316039567&wid=MLB5517906952&position=10&search_layout=grid&type=product&tracking_id=c0c26f4f-0a2a-422a-aae5-3c1fe8ce6fd1&sid=search\n",
      "https://produto.mercadolivre.com.br/MLB-5466248464-smart-tv-philips-70-70pug7019-_JM#polycard_client=search-nordic&position=22&search_layout=grid&type=item&tracking_id=c0c26f4f-0a2a-422a-aae5-3c1fe8ce6fd1&wid=MLB5466248464&sid=search\n",
      "https://produto.mercadolivre.com.br/MLB-4090587081-smart-tv-58-philco-led-4k-google-tv-hdr10-p58kga-_JM#polycard_client=search-nordic&position=23&search_layout=grid&type=item&tracking_id=c0c26f4f-0a2a-422a-aae5-3c1fe8ce6fd1&wid=MLB4090587081&sid=search\n",
      "https://www.mercadolivre.com.br/smart-tv-70-samsung-crystal-uhd-4k-70du8000-gaming-hub/up/MLBU3364794490#polycard_client=search-nordic&searchVariation=MLBU3364794490&wid=MLB5579514158&position=11&search_layout=grid&type=product&tracking_id=c0c26f4f-0a2a-422a-aae5-3c1fe8ce6fd1&sid=search\n",
      "https://www.mercadolivre.com.br/smart-tv-philco-50-polegadas-led-4k-roku-tv-ptv50va4regb/up/MLBU3318007371#polycard_client=search-nordic&searchVariation=MLBU3318007371&wid=MLB5519345988&position=12&search_layout=grid&type=product&tracking_id=c0c26f4f-0a2a-422a-aae5-3c1fe8ce6fd1&sid=search\n",
      "https://produto.mercadolivre.com.br/MLB-4090612945-smart-tv-58-philco-led-4k-google-tv-hdr10-p58kga-_JM#polycard_client=search-nordic&position=24&search_layout=grid&type=item&tracking_id=c0c26f4f-0a2a-422a-aae5-3c1fe8ce6fd1&wid=MLB4090612945&sid=search\n",
      "https://produto.mercadolivre.com.br/MLB-5606255778-smart-tv-led-70-ultra-hd-philco-4k-google-tv-e-chromecast-_JM#polycard_client=search-nordic&position=25&search_layout=grid&type=item&tracking_id=c0c26f4f-0a2a-422a-aae5-3c1fe8ce6fd1&wid=MLB5606255778&sid=search\n",
      "https://www.mercadolivre.com.br/smart-tv-50-philco-ptv50va4regb-led-roku-tv-dolby-audio/up/MLBU3115342548#polycard_client=search-nordic&searchVariation=MLBU3115342548&wid=MLB4026180045&position=13&search_layout=grid&type=product&tracking_id=c0c26f4f-0a2a-422a-aae5-3c1fe8ce6fd1&sid=search\n",
      "https://www.mercadolivre.com.br/smart-tv-50p-philco-ptv50va4regb-roku-tv-led-dolby-audio/up/MLBU3275129021#polycard_client=search-nordic&searchVariation=MLBU3275129021&wid=MLB4118002059&position=14&search_layout=grid&type=product&tracking_id=c0c26f4f-0a2a-422a-aae5-3c1fe8ce6fd1&sid=search\n",
      "https://www.mercadolivre.com.br/smart-tv-50p-philco-ptv50va4regb-roku-tv-led-dolby-audio/up/MLBU3275127695#polycard_client=search-nordic&searchVariation=MLBU3275127695&wid=MLB5481622908&position=15&search_layout=grid&type=product&tracking_id=c0c26f4f-0a2a-422a-aae5-3c1fe8ce6fd1&sid=search\n",
      "https://www.mercadolivre.com.br/tv-samsung-neo-qled-8k-qn65qn800b-pouco-uso/up/MLBU1460008054#polycard_client=search-nordic&searchVariation=MLBU1460008054&wid=MLB3761218421&position=16&search_layout=grid&type=product&tracking_id=c0c26f4f-0a2a-422a-aae5-3c1fe8ce6fd1&sid=search\n",
      "https://www.mercadolivre.com.br/tv-samsung-neo-qled-8k-qn65qn800b-praticamente-sem-uso/up/MLBU3347227853#polycard_client=search-nordic&searchVariation=MLBU3347227853&wid=MLB5557309186&position=17&search_layout=grid&type=product&tracking_id=c0c26f4f-0a2a-422a-aae5-3c1fe8ce6fd1&sid=search\n",
      "https://www.mercadolivre.com.br/tv-samsung-neo-qled-8k-qn65qn800b-pouco-uso-a-vista-85-k/up/MLBU1466537363#polycard_client=search-nordic&searchVariation=MLBU1466537363&wid=MLB4132100906&position=18&search_layout=grid&type=product&tracking_id=c0c26f4f-0a2a-422a-aae5-3c1fe8ce6fd1&sid=search\n",
      "https://www.mercadolivre.com.br/smart-tv-70--qled-4k-70q65d-2024-frete-gratis/up/MLBU3189335972#polycard_client=search-nordic&searchVariation=MLBU3189335972&wid=MLB4068792515&position=19&search_layout=grid&type=product&tracking_id=c0c26f4f-0a2a-422a-aae5-3c1fe8ce6fd1&sid=search\n",
      "https://www.mercadolivre.com.br/smart-tv-70-samsung-crystal-4k-uhd-tela-quebrada/up/MLBU3300693115#polycard_client=search-nordic&searchVariation=MLBU3300693115&wid=MLB5507142572&position=20&search_layout=grid&type=product&tracking_id=c0c26f4f-0a2a-422a-aae5-3c1fe8ce6fd1&sid=search\n",
      "https://www.mercadolivre.com.br/tv-samsung-neo-qled-8k-qn65qn800b-poucas-horas-de-uso/up/MLBU3268625135#polycard_client=search-nordic&searchVariation=MLBU3268625135&wid=MLB4113279675&position=21&search_layout=grid&type=product&tracking_id=c0c26f4f-0a2a-422a-aae5-3c1fe8ce6fd1&sid=search\n",
      "https://produto.mercadolivre.com.br/MLB-5521648082-tv-samsung-70-com-tela-danificada-modelo-un7otu7000g-_JM#polycard_client=search-nordic&position=26&search_layout=grid&type=item&tracking_id=c0c26f4f-0a2a-422a-aae5-3c1fe8ce6fd1&wid=MLB5521648082&sid=search\n",
      "https://www.mercadolivre.com.br/televiso-samsung-ultra-hd-70-smart-tv-thinq-ai-un70au7000gxpe-aceitavel-recondicionado/p/MLB2012918741#polycard_client=search-nordic&searchVariation=MLB2012918741&position=27&search_layout=grid&type=product&tracking_id=c0c26f4f-0a2a-422a-aae5-3c1fe8ce6fd1&wid=&sid=search\n"
     ]
    }
   ],
   "source": [
    "# 1) Criar lista vazia para armazenar links \n",
    "lista_de_links = []\n",
    "\n",
    "# 2) Criar laço de repetição para filtrar todos os dados\n",
    "for i in resultados:\n",
    "    lista_de_links.append(i.find('a')['href'])\n",
    "\n",
    "# 3) Visualizar Links\n",
    "for j in lista_de_links:\n",
    "    print(j)"
   ]
  },
  {
   "cell_type": "markdown",
   "id": "0ff4c565-9c25-4093-a728-821cda9ae289",
   "metadata": {},
   "source": [
    "#### Passo 7: Extrarir informações de cada produto listado"
   ]
  },
  {
   "cell_type": "code",
   "execution_count": 51,
   "id": "5bdb56e7-cd48-4e43-b210-aad3521e3add",
   "metadata": {},
   "outputs": [],
   "source": [
    "produto = BeautifulSoup(requests.get(lista_de_links[0], headers = headers).content, 'html.parser')"
   ]
  },
  {
   "cell_type": "code",
   "execution_count": 52,
   "id": "691d0db1-23a8-4a2e-bb99-5f62bda12287",
   "metadata": {},
   "outputs": [
    {
     "data": {
      "text/plain": [
       "'Smart Tv 58 Philco Led 4k Google Tv Hdr10 P58kga'"
      ]
     },
     "execution_count": 52,
     "metadata": {},
     "output_type": "execute_result"
    }
   ],
   "source": [
    "# Selecionar o título\n",
    "produto.find(class_ = 'ui-pdp-title').text"
   ]
  },
  {
   "cell_type": "code",
   "execution_count": 55,
   "id": "0feb6ed0-9db1-48fc-a7c3-c158a3d1cbe2",
   "metadata": {},
   "outputs": [
    {
     "data": {
      "text/plain": [
       "'3.284'"
      ]
     },
     "execution_count": 55,
     "metadata": {},
     "output_type": "execute_result"
    }
   ],
   "source": [
    "# Selecionar Preço\n",
    "produto.find(class_ = 'andes-money-amount__fraction').text"
   ]
  },
  {
   "cell_type": "code",
   "execution_count": 56,
   "id": "2aebc96e-b4bc-4a32-9fe4-7b4ab9831abe",
   "metadata": {},
   "outputs": [
    {
     "data": {
      "text/plain": [
       "'Novo  |  +5mil vendidos'"
      ]
     },
     "execution_count": 56,
     "metadata": {},
     "output_type": "execute_result"
    }
   ],
   "source": [
    "# Selecionar a quantidade de vendas\n",
    "produto.find(class_ = 'ui-pdp-subtitle').text"
   ]
  },
  {
   "cell_type": "code",
   "execution_count": 58,
   "id": "3a7f6be2-8266-4d58-be12-5cd2d77aa686",
   "metadata": {},
   "outputs": [
    {
     "data": {
      "text/plain": [
       "'A Smart TV Philco 58” 4K UHD P58KGA com Google TV foi desenvolvida para quem busca aliar alta qualidade de imagem, conectividade inteligente e excelente custo-benefício. Com tela de 58 polegadas, resolução Ultra HD e suporte a HDR10, ela proporciona uma experiência visual rica em detalhes, cores vibrantes e contraste superior — ideal para filmes, séries, esportes e games. Seu design moderno com bordas finas confere sofisticação ao ambiente, seja na sala de estar, quarto ou até em espaços comerciais.Equipada com o sistema operacional Google TV, a P58KGA oferece uma navegação fluida, intuitiva e altamente personalizada. O acesso direto a aplicativos como Netflix, YouTube, Prime Video e Globoplay, além de milhares de outros via Google Play, transforma a televisão em um verdadeiro hub de entretenimento. Com controle remoto por voz, comandos integrados ao Google Assistente e Chromecast embutido, o usuário tem liberdade total para interagir com a TV sem tocar em nenhum botão.Outro destaque está na conectividade: com Wi-Fi Dual Band, Bluetooth 5.1, múltiplas entradas HDMI 2.1 e USB, a Philco P58KGA permite conectar facilmente soundbars, videogames, notebooks e outros dispositivos. Seu sistema de som com tecnologia Dolby Audio complementa a imersão audiovisual, entregando áudio mais limpo e envolvente. Pensada para oferecer uma experiência completa, a P58KGA une desempenho, praticidade e recursos inteligentes em um único produto.'"
      ]
     },
     "execution_count": 58,
     "metadata": {},
     "output_type": "execute_result"
    }
   ],
   "source": [
    "# Selecionar a descrição\n",
    "produto.find(class_ = 'ui-pdp-description__content').text"
   ]
  },
  {
   "cell_type": "markdown",
   "id": "21e7b651-dd7b-48ca-a91a-f62f393105bf",
   "metadata": {},
   "source": [
    "#### Criar tabela para armazenar dados"
   ]
  },
  {
   "cell_type": "code",
   "execution_count": 59,
   "id": "bb8b5a8c-69aa-41bd-b3bc-24406da1fc15",
   "metadata": {},
   "outputs": [
    {
     "data": {
      "text/html": [
       "<div>\n",
       "<style scoped>\n",
       "    .dataframe tbody tr th:only-of-type {\n",
       "        vertical-align: middle;\n",
       "    }\n",
       "\n",
       "    .dataframe tbody tr th {\n",
       "        vertical-align: top;\n",
       "    }\n",
       "\n",
       "    .dataframe thead th {\n",
       "        text-align: right;\n",
       "    }\n",
       "</style>\n",
       "<table border=\"1\" class=\"dataframe\">\n",
       "  <thead>\n",
       "    <tr style=\"text-align: right;\">\n",
       "      <th></th>\n",
       "      <th>Título</th>\n",
       "      <th>Preço</th>\n",
       "      <th>Quantidade de vendas</th>\n",
       "      <th>Descrição do produto</th>\n",
       "    </tr>\n",
       "  </thead>\n",
       "  <tbody>\n",
       "  </tbody>\n",
       "</table>\n",
       "</div>"
      ],
      "text/plain": [
       "Empty DataFrame\n",
       "Columns: [Título, Preço, Quantidade de vendas, Descrição do produto]\n",
       "Index: []"
      ]
     },
     "execution_count": 59,
     "metadata": {},
     "output_type": "execute_result"
    }
   ],
   "source": [
    "# 1) Criar o nome de cada coluna\n",
    "colunas = ['Título','Preço','Quantidade de vendas','Descrição do produto']\n",
    "\n",
    "# 2) Criar a tabela com as colunas informadas\n",
    "tabela = pd.DataFrame(columns = colunas)\n",
    "\n",
    "# 3) Visualizar tabela\n",
    "tabela"
   ]
  },
  {
   "cell_type": "code",
   "execution_count": 65,
   "id": "7583ec57-8f07-4183-b086-481e68cb21b9",
   "metadata": {},
   "outputs": [
    {
     "name": "stdout",
     "output_type": "stream",
     "text": [
      "Houve um problema no link de índice 0\n",
      "Houve um problema no link de índice 1\n",
      "Houve um problema no link de índice 2\n",
      "Houve um problema no link de índice 3\n",
      "Houve um problema no link de índice 4\n",
      "Houve um problema no link de índice 5\n",
      "Houve um problema no link de índice 6\n",
      "Houve um problema no link de índice 7\n",
      "Houve um problema no link de índice 8\n",
      "Houve um problema no link de índice 9\n",
      "Houve um problema no link de índice 10\n",
      "Houve um problema no link de índice 11\n",
      "Houve um problema no link de índice 12\n",
      "Houve um problema no link de índice 13\n",
      "Houve um problema no link de índice 14\n",
      "Houve um problema no link de índice 15\n",
      "Houve um problema no link de índice 16\n",
      "Houve um problema no link de índice 17\n",
      "Houve um problema no link de índice 18\n",
      "Houve um problema no link de índice 19\n",
      "Houve um problema no link de índice 20\n",
      "Houve um problema no link de índice 21\n",
      "Houve um problema no link de índice 22\n",
      "Houve um problema no link de índice 23\n",
      "Houve um problema no link de índice 24\n"
     ]
    }
   ],
   "source": [
    "# Criar laço de repetição para armazenar as informações de todos os produtos da lista de links\n",
    "\n",
    "id = 0 # Contador\n",
    "for j in lista_de_links:\n",
    "    try:\n",
    "        #Requisita informações do link do produto e cria o objeto soup\n",
    "        produto = BeautifulSoup(requests.get(j, headers = headers).content, 'html.parser')\n",
    "        # Selecionar o título\n",
    "        titulo = produto.find(class_ = 'ui-pdp-title').text\n",
    "        # Selecionar Preço\n",
    "        preco = produto.find(class_ = 'andes-money-amount__fraction').text\n",
    "        # Selecionar a quantidade de vendas\n",
    "        vendidos = produto.find(class_ = 'ui-pdp-subtitle').text\n",
    "        # Selecionar a descrição\n",
    "        descricao = produto.find(class_ = 'ui-pdp-description__content').text\n",
    "\n",
    "        # Inserir uma nova linha na tabela com as informações do produto\n",
    "        tabela.loc[len(tabela)] = [titulo,preco,vendidos,descricao]\n",
    "    except:\n",
    "        print(f\"Houve um problema no link de índice {id}\")\n",
    "\n",
    "    # Incrementa uma posição no id\n",
    "    id = id + 1"
   ]
  },
  {
   "cell_type": "code",
   "execution_count": 66,
   "id": "8680a07d-dd57-478f-a361-6e48539aa582",
   "metadata": {},
   "outputs": [
    {
     "data": {
      "text/html": [
       "<div>\n",
       "<style scoped>\n",
       "    .dataframe tbody tr th:only-of-type {\n",
       "        vertical-align: middle;\n",
       "    }\n",
       "\n",
       "    .dataframe tbody tr th {\n",
       "        vertical-align: top;\n",
       "    }\n",
       "\n",
       "    .dataframe thead th {\n",
       "        text-align: right;\n",
       "    }\n",
       "</style>\n",
       "<table border=\"1\" class=\"dataframe\">\n",
       "  <thead>\n",
       "    <tr style=\"text-align: right;\">\n",
       "      <th></th>\n",
       "      <th>Título</th>\n",
       "      <th>Preço</th>\n",
       "      <th>Quantidade de vendas</th>\n",
       "      <th>Descrição do produto</th>\n",
       "    </tr>\n",
       "  </thead>\n",
       "  <tbody>\n",
       "  </tbody>\n",
       "</table>\n",
       "</div>"
      ],
      "text/plain": [
       "Empty DataFrame\n",
       "Columns: [Título, Preço, Quantidade de vendas, Descrição do produto]\n",
       "Index: []"
      ]
     },
     "execution_count": 66,
     "metadata": {},
     "output_type": "execute_result"
    }
   ],
   "source": [
    "tabela"
   ]
  },
  {
   "cell_type": "code",
   "execution_count": null,
   "id": "6715e95c-1c8d-4937-a77e-efd63de5c1e0",
   "metadata": {},
   "outputs": [],
   "source": []
  },
  {
   "cell_type": "code",
   "execution_count": null,
   "id": "0a3dcf7f-9c45-458b-9711-9dab0b072b62",
   "metadata": {},
   "outputs": [],
   "source": []
  },
  {
   "cell_type": "markdown",
   "id": "51ec2c9b-79da-4f39-9c13-6e4d38ffea17",
   "metadata": {},
   "source": [
    "#### Passo 8: Salvar tabela em uma planilha de Excel"
   ]
  },
  {
   "cell_type": "code",
   "execution_count": null,
   "id": "f9a643df-5d90-467a-876d-1bb207bcb178",
   "metadata": {},
   "outputs": [],
   "source": []
  },
  {
   "cell_type": "markdown",
   "id": "f811c6cd-0eb7-483d-83bc-2bb8bde68bbc",
   "metadata": {},
   "source": [
    "### Exercício 1: Encontrar uma solução para listar todos os resultados quando houver 2 ou mais páginas de resultado"
   ]
  },
  {
   "cell_type": "code",
   "execution_count": null,
   "id": "a82c1579-2100-4bfe-82ce-cf2d9bc1176a",
   "metadata": {},
   "outputs": [],
   "source": []
  },
  {
   "cell_type": "markdown",
   "id": "c1295382-95f4-4fe0-bc4f-28c8b95138c8",
   "metadata": {},
   "source": [
    "### Exercício 1.1 (extra): Formatar os dados da tabela"
   ]
  },
  {
   "cell_type": "code",
   "execution_count": null,
   "id": "7dc2f334-dd25-4266-adc4-7c857305026c",
   "metadata": {},
   "outputs": [],
   "source": []
  },
  {
   "cell_type": "markdown",
   "id": "df29f71d-1a7b-4f6c-a41c-b5fbda9e0d31",
   "metadata": {},
   "source": [
    "### Exercício 2: Faça o mesmo processo para outro marketplace, por exemplo, Magazine Luiza, Amazon, etc."
   ]
  },
  {
   "cell_type": "code",
   "execution_count": null,
   "id": "e9017f10-3f23-44ad-be1b-a57f9f9e0283",
   "metadata": {},
   "outputs": [],
   "source": []
  }
 ],
 "metadata": {
  "kernelspec": {
   "display_name": "Python 3 (ipykernel)",
   "language": "python",
   "name": "python3"
  },
  "language_info": {
   "codemirror_mode": {
    "name": "ipython",
    "version": 3
   },
   "file_extension": ".py",
   "mimetype": "text/x-python",
   "name": "python",
   "nbconvert_exporter": "python",
   "pygments_lexer": "ipython3",
   "version": "3.12.7"
  }
 },
 "nbformat": 4,
 "nbformat_minor": 5
}
