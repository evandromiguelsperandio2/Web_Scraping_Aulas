{
 "cells": [
  {
   "cell_type": "markdown",
   "id": "1f5dd1a6-a81d-40dd-b8aa-146a8f761a96",
   "metadata": {},
   "source": [
    "# Web Scraping com Selenium\n",
    "Nesta aula iremos criar uma **automação na internet** utilizando a biblioteca Selenium "
   ]
  },
  {
   "cell_type": "markdown",
   "id": "88408628-a9a6-4948-9361-472a62a95bd8",
   "metadata": {},
   "source": [
    "#### Passo 1: Instalar biblioteca"
   ]
  },
  {
   "cell_type": "code",
   "execution_count": 1,
   "id": "c2aa90a2-5dde-4855-a7dc-4250c7dddb12",
   "metadata": {},
   "outputs": [],
   "source": [
    "# Remova o comentário(#) da linha abaixo caso esteja executando este script pela primeira vez\n",
    "#!pip install --upgrade selenium\n",
    "#!pip install webdriver-manager"
   ]
  },
  {
   "cell_type": "markdown",
   "id": "548ca07b-7101-4a26-9986-afe815ae4efd",
   "metadata": {},
   "source": [
    "#### Passo 2: Importar bibliotecas"
   ]
  },
  {
   "cell_type": "code",
   "execution_count": 2,
   "id": "59232c20-b5d0-43be-aecd-6f037cf4ca27",
   "metadata": {},
   "outputs": [],
   "source": [
    "import pandas as pd\n",
    "\n",
    "# Módulo que fornece a classe principal para criar e controlar instâncias do navegador\n",
    "from selenium import webdriver\n",
    "\n",
    "#Módulo para gerenciar o serviço ChromeDriver\n",
    "#Iniciar/Parar/Configurar Ações/Gerenciar Processos...\n",
    "from selenium.webdriver.chrome.service import Service\n",
    "\n",
    "# Gerencia as versões do ChromeDriver\n",
    "from webdriver_manager.chrome import ChromeDriverManager\n",
    "\n",
    "#Módulo para localização de elementos da página\n",
    "from selenium.webdriver.common.by import By\n",
    "\n",
    "#Módulo para simular teclas\n",
    "from selenium.webdriver.common.keys import Keys"
   ]
  },
  {
   "cell_type": "markdown",
   "id": "b4c6e831-f1e7-46e7-a2be-80d64c6c4424",
   "metadata": {},
   "source": [
    "#### Passo 3: Criar navegador"
   ]
  },
  {
   "cell_type": "code",
   "execution_count": 5,
   "id": "0d96dc3e-a1d3-4a10-a8e5-cd4270a5ba58",
   "metadata": {},
   "outputs": [],
   "source": [
    "driver = webdriver.Chrome(service = Service(ChromeDriverManager().install()))"
   ]
  },
  {
   "cell_type": "markdown",
   "id": "993f5ac6-523a-4b5f-a52f-1d0951dfb3d9",
   "metadata": {},
   "source": [
    "#### Passo 4: Acessar site"
   ]
  },
  {
   "cell_type": "code",
   "execution_count": 7,
   "id": "b2cefc4d-6cc5-4666-a6f2-1c48d481bcab",
   "metadata": {},
   "outputs": [],
   "source": [
    "driver.get('http://www.google.com.br')"
   ]
  },
  {
   "cell_type": "markdown",
   "id": "0fee1e22-fdce-41d0-ac84-e714c7c76682",
   "metadata": {},
   "source": [
    "#### Passo 5: Fechar navegador"
   ]
  },
  {
   "cell_type": "code",
   "execution_count": 8,
   "id": "a9a7c221-2d0c-44aa-aaa3-e6da8c2986b8",
   "metadata": {},
   "outputs": [],
   "source": [
    "driver.quit()"
   ]
  },
  {
   "cell_type": "markdown",
   "id": "ac4e32c8-8f3c-44c1-a390-07158ee9d325",
   "metadata": {},
   "source": [
    "#### Passo 6: Acessar site e obter elementos elementos html\n",
    "\n",
    "Para obter os elementos do site existem basicamente dois comandos\n",
    "- find_element() -> Para acessar apenas um elemento\n",
    "- find_elements() -> Para acessar vários elementos de uma vez\n",
    "\n",
    "A partir destes comandos podemos usar vários métodos de seleção, por:\n",
    "- **tag_name:** Localiza elementos com nome de tag correspondente ao valor de pesquisa\n",
    "- **id:** Localiza elementos com atributo ID correspondente ao valor de pesquisa\n",
    "- **class_name:** Localiza elementos com nome de classe que contém o valor de pesquisa (nomes de classe compostos não são permitidos)\n",
    "- **css_selector:** Localiza elementos que correspondem a um seletor CSS\n",
    "- **name:** Localiza elementos com atributo NAME correspondente ao valor de pesquisa\n",
    "- **xpath:** Localiza elementos que correspondem a uma empressão XPath\n",
    "- **link_text:** Localiza elementos âncora em que o texto visível corresponde ao valor de pesquisa\n",
    "- **partial link text:** Localiza elementos âncora em que o texto visível contém o valor de pesquisa. Se vários elementos forem correspondentes, apenas o primeiro será selecionado\n",
    "\n",
    "Após selecionar os elementos podemos executar algumas ações:\n",
    "- **click():** Simula um clique do mouse em um elemento. Exemplo: elemento.click().\n",
    "- **send_keys('Text'):** Insira texto em um campo. Exemplo: elemento.send_keys(\"texto a ser inserido\").\n",
    "- **clear():** Remova o texto existente em um campo de texto. Exemplo: elemento.clear().\n",
    "- **submit():** Envie um formulário. Exemplo: elemento.submit().\n",
    "- **select_by_visible_text('Texto'):** Selecione uma opção em uma lista suspensa por texto visível. Exemplo: elemento.select_by_visible_text(\"Opção Desejada\").\n",
    "- **Keys.ENTER:** Simula a tecla Enter. Pode ser usado em combinação com send_keys()para enviar formulários ou em outras situações que desative a tecla Enter. Exemplo: elemento.send_keys(Keys.ENTER)."
   ]
  },
  {
   "cell_type": "code",
   "execution_count": 18,
   "id": "f758a563-053d-4ce6-8d2f-cef16abb9fe5",
   "metadata": {},
   "outputs": [],
   "source": [
    "driver = webdriver.Chrome(service = Service(ChromeDriverManager().install()))\n",
    "# Acessa link\n",
    "driver.get('https://pubmed.ncbi.nlm.nih.gov/')\n",
    "# Seleciona o campo de busca pelo id\n",
    "campo_busca = driver.find_element(By.ID, 'id_term')\n",
    "# Escreve um texto no campo de busca + a tecla Enter para iniciar a busca\n",
    "campo_busca.send_keys('Irlen Syndrome', Keys.ENTER)"
   ]
  },
  {
   "cell_type": "code",
   "execution_count": 10,
   "id": "079ad1d9-1663-43e1-b31c-d8b8c0252079",
   "metadata": {},
   "outputs": [],
   "source": [
    "driver.get('https://pubmed.ncbi.nlm.nih.gov/')"
   ]
  },
  {
   "cell_type": "code",
   "execution_count": 11,
   "id": "36952ed0-25ed-408c-b5da-dde18f9067e9",
   "metadata": {},
   "outputs": [],
   "source": [
    "campo_busca = driver.find_element(By.ID, 'id_term')"
   ]
  },
  {
   "cell_type": "code",
   "execution_count": 12,
   "id": "a770adec-8d7c-49d8-9578-69e9e65a96cd",
   "metadata": {},
   "outputs": [],
   "source": [
    "campo_busca.send_keys('Irlen Syndrome')"
   ]
  },
  {
   "cell_type": "code",
   "execution_count": 13,
   "id": "81360487-bcc3-4d57-a14b-9b01669a969f",
   "metadata": {},
   "outputs": [],
   "source": [
    "driver.find_element(By.CLASS_NAME, 'search-btn').click()"
   ]
  },
  {
   "cell_type": "code",
   "execution_count": 15,
   "id": "58c5acf7-830a-4222-a9f2-0e0022c44f55",
   "metadata": {},
   "outputs": [],
   "source": [
    "driver.quit()"
   ]
  },
  {
   "cell_type": "markdown",
   "id": "ecd68dc7-83d7-4542-b4c2-17d16895a8ad",
   "metadata": {},
   "source": [
    "#### Passo 7: Obter elementos dos resultados de busca"
   ]
  },
  {
   "cell_type": "code",
   "execution_count": 19,
   "id": "94b8109f-9078-4653-977c-8b81f32037fe",
   "metadata": {},
   "outputs": [
    {
     "data": {
      "text/plain": [
       "10"
      ]
     },
     "execution_count": 19,
     "metadata": {},
     "output_type": "execute_result"
    }
   ],
   "source": [
    "# Listar todos os resultados\n",
    "# Atenção para a função find_elements (no plural)\n",
    "resultados = driver.find_elements(By.CLASS_NAME, 'full-docsum')\n",
    "len(resultados)"
   ]
  },
  {
   "cell_type": "code",
   "execution_count": 22,
   "id": "d36a4aa1-cc00-42fe-9871-e5797d276630",
   "metadata": {},
   "outputs": [
    {
     "name": "stdout",
     "output_type": "stream",
     "text": [
      "1\n",
      "Irlen syndrome: systematic review and level of evidence analysis.\n",
      "Miyasaka JDS, et al. Arq Neuropsiquiatr. 2019. PMID: 30970133 Free article.\n",
      "BACKGROUND: Scotopic sensitivity syndrome, later called Meares-Irlen syndrome or simply Irlen syndrome (I …\n",
      "Cite\n",
      "2\n",
      "Dyslexia with and without Irlen syndrome: A study of influence on abilities and brain-derived neurotrophic factor level.\n",
      "Abdelraouf ER, et al. Ibrain. 2022. PMID: 37786524 Free PMC article.\n",
      "The presence of comorbid Irlen syndrome (IS) in children with developmental dyslexia (DD) may have an impact on their reading …\n",
      "Cite\n",
      "3\n",
      "Irlen lenses: a critical appraisal.\n",
      "Solan HA, et al. J Am Optom Assoc. 1990. PMID: 2136527 Review.\n",
      "The purpose of this paper is to assess the credibility of the Irlen lenses, Irlen's hypotheses, and the scotopic sensitivity …\n",
      "Cite\n",
      "4\n",
      "Dizziness in a Child With Irlen Syndrome: Differentiating Visual and Vestibular Complaints.\n",
      "Hoppes CW, et al. Pediatr Phys Ther. 2019. PMID: 31469774\n",
      "PURPOSE: A case study of a 12-year-old boy with Irlen syndrome illustrates the overlapping symptoms of Irlen syndrom …\n",
      "Cite\n",
      "5\n",
      "Irlen syndrome: expensive lenses for this ill defined syndrome exploit patients.\n",
      "Williams GS. BMJ. 2014. PMID: 25239616 No abstract available.\n",
      "Cite\n",
      "6\n",
      "Screening for dyslexia, dyspraxia and Meares-Irlen syndrome in higher education.\n",
      "Nichols SA, et al. Dyslexia. 2009. PMID: 19089876\n",
      "This study reports a comparison of screening tests for dyslexia, dyspraxia and Meares-Irlen (M-I) syndrome in a Higher Educati …\n",
      "Cite\n",
      "7\n",
      "[The Irlen syndrome--are there pathophysiologic correlates and scientific evidence for \"reading with colors\"?].\n",
      "Döhnert M, et al. Z Kinder Jugendpsychiatr Psychother. 2003. PMID: 14694847 Review. German. No abstract available.\n",
      "Cite\n",
      "8\n",
      "Specific visual symptoms and signs of Meares-Irlen syndrome in Korean.\n",
      "Chang M, et al. Korean J Ophthalmol. 2014. PMID: 24688259 Free PMC article.\n",
      "PURPOSE: To discriminate the visual symptoms and signs of Meares-Irlen syndrome (MIS) and nonspecific dyslexia from other opht …\n",
      "Cite\n",
      "9\n",
      "A review of the use of Irlen (tinted) lenses.\n",
      "Cotton MM, et al. Aust N Z J Ophthalmol. 1990. PMID: 2261178 Review.\n",
      "Helen Irlen identified a syndrome defined as 'scotopic sensitivity' which it was claimed could be responsible for the inabilit …\n",
      "Cite\n",
      "10\n",
      "Optometric correlates of Meares-Irlen syndrome: a matched group study.\n",
      "Evans BJ, et al. Ophthalmic Physiol Opt. 1995. PMID: 8524579\n",
      "Several mechanisms have been suggested for Meares-Irlen Syndrome including ocular motor (binocular and accommodative) anomalie …\n",
      "Cite\n"
     ]
    }
   ],
   "source": [
    "lista_de_titulos = []\n",
    "for i in resultados:\n",
    "    lista_de_titulos.append(i.text)\n",
    "\n",
    "for j in lista_de_titulos:\n",
    "    print(j)"
   ]
  },
  {
   "cell_type": "code",
   "execution_count": 23,
   "id": "b2cd61c7-8ab1-4347-a41e-a7f1790391ae",
   "metadata": {},
   "outputs": [
    {
     "data": {
      "text/plain": [
       "['https://pubmed.ncbi.nlm.nih.gov/30970133/',\n",
       " 'https://pubmed.ncbi.nlm.nih.gov/37786524/',\n",
       " 'https://pubmed.ncbi.nlm.nih.gov/2136527/',\n",
       " 'https://pubmed.ncbi.nlm.nih.gov/31469774/',\n",
       " 'https://pubmed.ncbi.nlm.nih.gov/25239616/',\n",
       " 'https://pubmed.ncbi.nlm.nih.gov/19089876/',\n",
       " 'https://pubmed.ncbi.nlm.nih.gov/14694847/',\n",
       " 'https://pubmed.ncbi.nlm.nih.gov/24688259/',\n",
       " 'https://pubmed.ncbi.nlm.nih.gov/2261178/',\n",
       " 'https://pubmed.ncbi.nlm.nih.gov/8524579/']"
      ]
     },
     "execution_count": 23,
     "metadata": {},
     "output_type": "execute_result"
    }
   ],
   "source": [
    "lista_de_links = []\n",
    "for i in resultados:\n",
    "    link_element = i.find_element(By.CLASS_NAME, 'docsum-title') #Encontra a tag a\n",
    "    lista_de_links.append(link_element.get_attribute('href')) #Encontra o atributo href\n",
    "lista_de_links"
   ]
  },
  {
   "cell_type": "code",
   "execution_count": null,
   "id": "4b89e4d3-7c9f-4561-9843-5180567727e0",
   "metadata": {},
   "outputs": [],
   "source": []
  },
  {
   "cell_type": "code",
   "execution_count": null,
   "id": "30497e98-c416-412a-a96e-2e55baa66931",
   "metadata": {},
   "outputs": [],
   "source": []
  },
  {
   "cell_type": "code",
   "execution_count": null,
   "id": "003521c7-46bd-4c97-96b6-54e8da88a98c",
   "metadata": {},
   "outputs": [],
   "source": []
  },
  {
   "cell_type": "code",
   "execution_count": null,
   "id": "398426f3-26eb-4867-9d71-e3cc35855ee8",
   "metadata": {},
   "outputs": [],
   "source": []
  },
  {
   "cell_type": "code",
   "execution_count": null,
   "id": "ada9eda9-3fcb-4aca-95b6-5186c7221998",
   "metadata": {},
   "outputs": [],
   "source": []
  },
  {
   "cell_type": "code",
   "execution_count": null,
   "id": "45fe597b-b08b-4a79-8801-ca82b75a0e38",
   "metadata": {},
   "outputs": [],
   "source": []
  },
  {
   "cell_type": "code",
   "execution_count": null,
   "id": "14158503-b2bd-4515-b942-77a2d2c8fc68",
   "metadata": {},
   "outputs": [],
   "source": []
  },
  {
   "cell_type": "code",
   "execution_count": null,
   "id": "a1618d4c-ad1b-4ec2-8088-e14cf657906c",
   "metadata": {},
   "outputs": [],
   "source": []
  },
  {
   "cell_type": "code",
   "execution_count": null,
   "id": "50567024-2b3d-417d-939b-580e3cd6ee8e",
   "metadata": {},
   "outputs": [],
   "source": []
  },
  {
   "cell_type": "code",
   "execution_count": null,
   "id": "98e52f1c-6b32-4eca-83f2-5d7f80a76290",
   "metadata": {},
   "outputs": [],
   "source": []
  },
  {
   "cell_type": "code",
   "execution_count": null,
   "id": "4afe0753-bde8-4f77-b721-68153590f182",
   "metadata": {},
   "outputs": [],
   "source": []
  },
  {
   "cell_type": "code",
   "execution_count": null,
   "id": "bf2eeae2-ae85-45b8-9d14-c51636f4fb88",
   "metadata": {},
   "outputs": [],
   "source": []
  },
  {
   "cell_type": "code",
   "execution_count": null,
   "id": "c59d6631-4959-4e4a-8361-70d2a7ec4bc1",
   "metadata": {},
   "outputs": [],
   "source": []
  },
  {
   "cell_type": "markdown",
   "id": "e474d35c-5490-4dc3-b25d-c9767a6e6784",
   "metadata": {},
   "source": [
    "#### Exercício: Automatizar levantamento da literatura no site da Capes\n",
    "Extrair as informações abaixo de cada um dos links obtidos\n",
    "\n",
    "- Título\n",
    "- Ano\n",
    "- Editora\n",
    "- Volume\n",
    "- Edição\n",
    "- Idioma\n",
    "- DOI\n",
    "- ISSN\n",
    "- Autores\n",
    "- Tópico(s)\n",
    "- Resumo\n",
    "- Link"
   ]
  },
  {
   "cell_type": "code",
   "execution_count": 29,
   "id": "43ca0e81-be3f-42c4-8002-461105d83900",
   "metadata": {},
   "outputs": [
    {
     "name": "stdout",
     "output_type": "stream",
     "text": [
      "====================================================================================================\n",
      "ARTIGO 1\n",
      "====================================================================================================\n",
      "Título  : Irlen syndrome: systematic review and level of evidence analysis\n",
      "\n",
      "=== PUBLICAÇÃO ===\n",
      "Ano     : 2019\n",
      "Mês     : Mar\n",
      "Volume  : 77\n",
      "Edição  : 3\n",
      "DOI     : 10.1590/0004-282X20190014.\n",
      "Link    : https://pubmed.ncbi.nlm.nih.gov/30970133/\n",
      "\n",
      "=== AUTORES ===\n",
      "Jordan Da Silva Miyasaka 1 , Raphael V Gonzaga Vieira 1 , Elaine Shizue Novalo-Goto 1 , Erik Montagna 1 , Rubens Wajnsztejn 1 \n",
      "\n",
      "=== RESUMO ===\n",
      "Background: Scotopic sensitivity syndrome, later called Meares-Irlen syndrome or simply Irlen syndrome (IS) has been described as symptoms of poor reading ability due to poor color matching and distorted graphic images. Individuals with this syndrome are considered slow, ineffective readers with low comprehension and visual fatigue. It is still uncertain whether the disease pathophysiology is an independent entity or part of the dyslexia spectrum. Nevertheless, treatments with lenses and colored filters have been proposed to alleviate the effect of the luminous contrast and improve patients' reading performance. However, no evidence of treatment effectiveness has been achieved. Objective: The aim of the present study was to obtain evidence about IS etiology, diagnosis and intervention efficacy. Methods: A systematic review was performed covering the available studies on IS, assessing the available data according to their level of evidence, focusing on diagnostic tools, proposed interventions and related outcomes. Results: The data showed high heterogeneity among studies, and lack of evidence on the existence of IS and treatment effectiveness. Conclusion: The syndrome as described, as well as its treatments, require further strong evidence.\n",
      "\n",
      "\n",
      "\n",
      "====================================================================================================\n",
      "ARTIGO 2\n",
      "====================================================================================================\n",
      "Título  : Dyslexia with and without Irlen syndrome: A study of influence on abilities and brain-derived neurotrophic factor level\n",
      "\n",
      "=== PUBLICAÇÃO ===\n",
      "Ano     : ?\n",
      "Mês     : ?\n",
      "Volume  : ?\n",
      "Edição  : ?\n",
      "DOI     : 10.1002/ibra.12080.\n",
      "Link    : https://pubmed.ncbi.nlm.nih.gov/37786524/\n",
      "\n",
      "=== AUTORES ===\n",
      "Ehab R Abdelraouf 1 2 , Ayman Kilany 1 3 , Mohamed E Elhadidy 1 , Hala M Zeidan 1 , Amal Elsaied 1 2 , Ola M Eid 4 , Mostafa M El-Saied 1 2 , Rasha Anwar 5 , Neveen H Nashaat 1 2 \n",
      "\n",
      "=== RESUMO ===\n",
      "The presence of comorbid Irlen syndrome (IS) in children with developmental dyslexia (DD) may have an impact on their reading and cognitive abilities. Furthermore, the brain-derived neurotrophic factor (BDNF) was reported to be expressed in brain areas involved in cognitive and visual processing. The aim of this study was to evaluate some cognitive abilities of a group of dyslexic children with IS and to measure and compare the plasma BDNF level to dyslexic children without IS and neurotypical (NT) children. The participants were 60 children with DD (30 in the DD + IS group; 30 in the DD group) and 30 NT children. The Irlen reading perceptual scale, the Stanford Binet intelligence scale, 4th ed, the dyslexia assessment test, and the Illinois test of psycholinguistic abilities were used. The BDNF level was measured using the enzyme-linked immunosorbent assay. One-minute writing and visual closure deficits were more prevalent, while phonemic segmentation deficits were less prevalent in the DD + IS group compared to the DD group. The BDNF level in the DD groups was lower than that in NT children ( p < 0.001). Some reading and non-reading tasks were influenced by the presence of a coexisting IS. The reduced BDNF level could play a role in the deficits noticed in the abilities of children with DD.\n",
      "\n",
      "\n",
      "\n",
      "====================================================================================================\n",
      "ARTIGO 3\n",
      "====================================================================================================\n",
      "Título  : Irlen lenses: a critical appraisal\n",
      "\n",
      "=== PUBLICAÇÃO ===\n",
      "Ano     : 1990\n",
      "Mês     : Oct\n",
      "Volume  : 61\n",
      "Edição  : 10\n",
      "DOI     : DOI não disponível\n",
      "Link    : https://pubmed.ncbi.nlm.nih.gov/2136527/\n",
      "\n",
      "=== AUTORES ===\n",
      "H A Solan 1 , J Richman \n",
      "\n",
      "=== RESUMO ===\n",
      "The purpose of this paper is to assess the credibility of the Irlen lenses, Irlen's hypotheses, and the scotopic sensitivity syndrome. The analysis includes a review of 13 pro and con research papers. Of special interest is the dichotomy which developed between researchers who were Irlen participants and the professional and scientific community who required less disputable evidence. Even the former, however, failed to find scientific support for Irlen's concept of dysfunction in the discharge rate of the retinal receptor cells. Furthermore, in the absence of any evidence that it is a separate and distinct entity, it appears that the scotopic sensitivity syndrome is, in fact, a symptom complex which results primarily from various refractive, binocular, and accommodative disorders. Some of the papers which support Irlen's hypotheses provide reason to believe that there is a strong placebo effect.\n",
      "\n",
      "\n",
      "\n",
      "====================================================================================================\n",
      "ARTIGO 4\n",
      "====================================================================================================\n",
      "Título  : Dizziness in a Child With Irlen Syndrome: Differentiating Visual and Vestibular Complaints\n",
      "\n",
      "=== PUBLICAÇÃO ===\n",
      "Ano     : 2019\n",
      "Mês     : Oct\n",
      "Volume  : 31\n",
      "Edição  : 4\n",
      "DOI     : 10.1097/PEP.0000000000000652.\n",
      "Link    : https://pubmed.ncbi.nlm.nih.gov/31469774/\n",
      "\n",
      "=== AUTORES ===\n",
      "Carrie W Hoppes 1 , Rebecca L Morrell , Laura Ward Woelfel , Susan L Whitney \n",
      "\n",
      "=== RESUMO ===\n",
      "Purpose: A case study of a 12-year-old boy with Irlen syndrome illustrates the overlapping symptoms of Irlen syndrome and vestibular-related dizziness. Summary of key points: Individuals with Irlen syndrome have eyestrain and headache, and often report visual perceptual distortions of blurring, doubling, and movement of print on the page. These symptoms can be relieved with the use of individually prescribed tinted lenses or overlays. Visually induced dizziness, also known as visual vertigo, is characterized by dizziness and/or unsteadiness that is triggered by complex, distorted, large field/moving visual stimuli. Visually induced dizziness can be effectively treated with progressive, controlled exposure to optokinetic visual stimuli. The child with Irlen syndrome had impaired balance, impaired gaze stability, and symptoms of visual vertigo. His complaint of visually induced dizziness resolved following vestibular rehabilitation. Conclusions and recommendations for clinical practice: When an individual with Irlen syndrome complains of dizziness, ruling out a concomitant diagnosis of a central and/or peripheral vestibular disorder is warranted. What this adds to the evidence: The visual symptoms associated with Irlen syndrome can overlap with those of visually induced dizziness. This case report is the first to describe overlapping visual and vestibular complaints of dizziness in an individual with Irlen syndrome.\n",
      "\n",
      "\n",
      "\n",
      "====================================================================================================\n",
      "ARTIGO 5\n",
      "====================================================================================================\n",
      "Título  : Irlen syndrome: expensive lenses for this ill defined syndrome exploit patients\n",
      "\n",
      "=== PUBLICAÇÃO ===\n",
      "Ano     : ?\n",
      "Mês     : ?\n",
      "Volume  : ?\n",
      "Edição  : ?\n",
      "DOI     : 10.1136/bmj.g4872.\n",
      "Link    : https://pubmed.ncbi.nlm.nih.gov/25239616/\n",
      "\n",
      "=== AUTORES ===\n",
      "Gwyn Samuel Williams \n",
      "\n",
      "=== RESUMO ===\n",
      "Resumo não disponível\n",
      "\n",
      "\n",
      "\n",
      "====================================================================================================\n",
      "ARTIGO 6\n",
      "====================================================================================================\n",
      "Título  : Screening for dyslexia, dyspraxia and Meares-Irlen syndrome in higher education\n",
      "\n",
      "=== PUBLICAÇÃO ===\n",
      "Ano     : 2009\n",
      "Mês     : Feb\n",
      "Volume  : 15\n",
      "Edição  : 1\n",
      "DOI     : 10.1002/dys.382.\n",
      "Link    : https://pubmed.ncbi.nlm.nih.gov/19089876/\n",
      "\n",
      "=== AUTORES ===\n",
      "S A Nichols 1 , J S McLeod , R L Holder , H S T McLeod \n",
      "\n",
      "=== RESUMO ===\n",
      "This study reports a comparison of screening tests for dyslexia, dyspraxia and Meares-Irlen (M-I) syndrome in a Higher Education setting, the University of Worcester. Using a sample of 74 volunteer students, we compared the current tutor-delivered battery of 15 subtests with a computerized test, the Lucid Adult Dyslexia Screening test (LADS), and both of these with data on assessment outcomes. The sensitivity of this tutor battery was higher than LADS in predicting dyslexia, dyspraxia or M-I syndrome (91% compared with 66%) and its specificity was lower (79% compared with 90%). Stepwise logistic regression on these tests was used to identify a better performing subset of tests, when combined with a change in practice for M-I syndrome screening. This syndrome itself proved to be a powerful discriminator for dyslexia and/or dyspraxia, and we therefore recommend it as the first stage in a two-stage screening process. The specificity and sensitivity of the new battery, the second part of which comprises LADS plus four of the original tutor delivered subtests, provided the best overall performance: 94% sensitivity and 92% specificity. We anticipate that the new two-part screening process would not take longer to complete.\n",
      "\n",
      "\n",
      "\n",
      "====================================================================================================\n",
      "ARTIGO 7\n",
      "====================================================================================================\n",
      "Título  : [The Irlen syndrome--are there pathophysiologic correlates and scientific evidence for \"reading with colors\"?]\n",
      "\n",
      "=== PUBLICAÇÃO ===\n",
      "Ano     : 2003\n",
      "Mês     : Nov\n",
      "Volume  : 31\n",
      "Edição  : 4\n",
      "DOI     : 10.1024/1422-4917.31.4.305.\n",
      "Link    : https://pubmed.ncbi.nlm.nih.gov/14694847/\n",
      "\n",
      "=== AUTORES ===\n",
      "M Döhnert 1 , E D Englert \n",
      "\n",
      "=== RESUMO ===\n",
      "Resumo não disponível\n",
      "\n",
      "\n",
      "\n",
      "====================================================================================================\n",
      "ARTIGO 8\n",
      "====================================================================================================\n",
      "Título  : Specific visual symptoms and signs of Meares-Irlen syndrome in Korean\n",
      "\n",
      "=== PUBLICAÇÃO ===\n",
      "Ano     : 2014\n",
      "Mês     : Apr\n",
      "Volume  : 28\n",
      "Edição  : 2\n",
      "DOI     : 10.3341/kjo.2014.28.2.159.\n",
      "Link    : https://pubmed.ncbi.nlm.nih.gov/24688259/\n",
      "\n",
      "=== AUTORES ===\n",
      "Minwook Chang 1 , Seung-Hyun Kim 1 , Joo-Young Kim 2 , Yoonae A Cho 1 \n",
      "\n",
      "=== RESUMO ===\n",
      "Purpose: To discriminate the visual symptoms and signs of Meares-Irlen syndrome (MIS) and nonspecific dyslexia from other ophthalmologic diseases (NODs). Methods: Forty-five patients were enrolled. Thirty four of the patients with MIS whose symptoms improved with tinted lenses comprised MIS group. The other 11 patients whose reading difficulty improved with other ocular therapy and did not require tinted lenses comprised NODs group. The main symptoms causing dyslexia and associated ocular diseases were evaluated. Results: The mean age was 17.9 ± 9.5 years in MIS group, and 19.3 ± 11.0 years in NODs group. In MIS group, the most common symptoms while reading were difficulty to move lines (85%), doubling (53%), and difficulty in bright condition (27%). On the other hand, blurring was the most common symptom in NODs group (45%). The associated ocular diseases in the two groups were refractive error (79% and 73%), dry eye (29% and 18%), and exophoria (6% and 27%), respectively. Conclusions: Doubling, difficulty to move lines, and difficulty in bright condition while reading are main specific symptoms in MIS compared to nonspecific dyslexia from other ophthalmologic disorders.\n",
      "\n",
      "\n",
      "\n",
      "====================================================================================================\n",
      "ARTIGO 9\n",
      "====================================================================================================\n",
      "Título  : A review of the use of Irlen (tinted) lenses\n",
      "\n",
      "=== PUBLICAÇÃO ===\n",
      "Ano     : 1990\n",
      "Mês     : Aug\n",
      "Volume  : 18\n",
      "Edição  : 3\n",
      "DOI     : 10.1111/j.1442-9071.1990.tb00625.x.\n",
      "Link    : https://pubmed.ncbi.nlm.nih.gov/2261178/\n",
      "\n",
      "=== AUTORES ===\n",
      "M M Cotton 1 , K M Evans \n",
      "\n",
      "=== RESUMO ===\n",
      "Helen Irlen identified a syndrome defined as 'scotopic sensitivity' which it was claimed could be responsible for the inability of some people to read fluently and the symptoms of which could be ameliorated by the wearing of prescribed coloured lenses. The literature to date presents a confused and inconsistent picture concerning the use of the lenses. The literature (much of which is unpublished and difficult to obtain) is critically reviewed. Recent experimental evaluations of the lenses do not support the use of the lenses as a useful intervention for children with reading disabilities.\n",
      "\n",
      "\n",
      "\n",
      "====================================================================================================\n",
      "ARTIGO 10\n",
      "====================================================================================================\n",
      "Título  : Optometric correlates of Meares-Irlen syndrome: a matched group study\n",
      "\n",
      "=== PUBLICAÇÃO ===\n",
      "Ano     : 1995\n",
      "Mês     : Sep\n",
      "Volume  : 15\n",
      "Edição  : 5\n",
      "DOI     : 10.1046/j.1475-1313.1995.9500063j.x.\n",
      "Link    : https://pubmed.ncbi.nlm.nih.gov/8524579/\n",
      "\n",
      "=== AUTORES ===\n",
      "B J Evans 1 , A Busby , R Jeanes , A J Wilkins \n",
      "\n",
      "=== RESUMO ===\n",
      "People who report visual perceptual distortions, typically when reading, that are alleviated by using coloured filters are described as suffering from 'Meares-Irlen Syndrome'. A recent double-masked placebo-controlled trial showed that this condition cannot be solely explained as a placebo effect and that the beneficial filter is idiosyncratic and sometimes needs to be highly specific. Several mechanisms have been suggested for Meares-Irlen Syndrome including ocular motor (binocular and accommodative) anomalies, a sensitivity to patterned stimuli (pattern glare), and a deficit of the transient visual sub-system. We investigated these hypotheses by comparing 16 children, who reported the symptoms described above and who showed a sustained benefit from coloured filters, with 25 control children who came from the same school and were matched for age, reading performance and intelligence. The 'Meares-Irlen Syndrome' group had slightly, but significantly, reduced vergence and accommodative amplitudes and stereo-acuity; they also demonstrated significantly more pattern glare. The two groups did not differ significantly in their visual acuities, refractive error, dissociated or associated heterophoria, AC/A ratio, or ability to perceive 20 Hz flicker. It appears that certain ocular motor factors are correlates of Meares-Irlen Syndrome, rather than the primary underlying cause of the symptoms. The results support the hypothesis that pattern glare may be involved in the mechanism of Meares-Irlen Syndrome.\n",
      "\n",
      "\n",
      "\n"
     ]
    }
   ],
   "source": [
    "import requests\n",
    "from bs4 import BeautifulSoup\n",
    "\n",
    "urls = [\n",
    "    'https://pubmed.ncbi.nlm.nih.gov/30970133/',\n",
    "    'https://pubmed.ncbi.nlm.nih.gov/37786524/',\n",
    "    'https://pubmed.ncbi.nlm.nih.gov/2136527/',\n",
    "    'https://pubmed.ncbi.nlm.nih.gov/31469774/',\n",
    "    'https://pubmed.ncbi.nlm.nih.gov/25239616/',\n",
    "    'https://pubmed.ncbi.nlm.nih.gov/19089876/',\n",
    "    'https://pubmed.ncbi.nlm.nih.gov/14694847/',\n",
    "    'https://pubmed.ncbi.nlm.nih.gov/24688259/',\n",
    "    'https://pubmed.ncbi.nlm.nih.gov/2261178/',\n",
    "    'https://pubmed.ncbi.nlm.nih.gov/8524579/'\n",
    "]\n",
    "\n",
    "for i, url in enumerate(urls, 1):\n",
    "    try:\n",
    "        response = requests.get(url)\n",
    "        soup = BeautifulSoup(response.text, \"html.parser\")\n",
    "\n",
    "        # Título\n",
    "        titulo = soup.select_one(\"h1.heading-title\").get_text(strip=True)\n",
    "\n",
    "        # Detalhes de publicação (ano, mês, volume, edição)\n",
    "        detalhes = soup.select_one(\"span.cit\").get_text(strip=True)\n",
    "        try:\n",
    "            partes = detalhes.split(\";\")\n",
    "            ano_mes = partes[0].strip()\n",
    "            ano, mes = ano_mes.split(\" \")\n",
    "            volume_ed = partes[1].split(\":\")[0].strip()\n",
    "            volume = volume_ed.split(\"(\")[0]\n",
    "            edicao = volume_ed.split(\"(\")[1].replace(\")\", \"\")\n",
    "        except:\n",
    "            ano, mes, volume, edicao = \"?\", \"?\", \"?\", \"?\"\n",
    "\n",
    "        # DOI\n",
    "        doi_elem = soup.select_one(\"span.citation-doi\")\n",
    "        doi = doi_elem.get_text(strip=True).replace(\"doi: \", \"\") if doi_elem else \"DOI não disponível\"\n",
    "\n",
    "        # Autores\n",
    "        autores = soup.select_one(\"div.authors-list\")\n",
    "        autores = autores.get_text(\" \", strip=True) if autores else \"Autores não disponíveis\"\n",
    "\n",
    "        # Resumo\n",
    "        resumo_elem = soup.select_one(\"div.abstract-content.selected#eng-abstract\")\n",
    "        resumo = resumo_elem.get_text(\" \", strip=True) if resumo_elem else \"Resumo não disponível\"\n",
    "\n",
    "        # Exibir resultados\n",
    "        print(\"=\"*100)\n",
    "        print(f\"ARTIGO {i}\")\n",
    "        print(\"=\"*100)\n",
    "        print(f\"Título  : {titulo}\\n\")\n",
    "        print(\"=== PUBLICAÇÃO ===\")\n",
    "        print(f\"Ano     : {ano}\")\n",
    "        print(f\"Mês     : {mes}\")\n",
    "        print(f\"Volume  : {volume}\")\n",
    "        print(f\"Edição  : {edicao}\")\n",
    "        print(f\"DOI     : {doi}\")\n",
    "        print(f\"Link    : {url}\\n\")\n",
    "        print(\"=== AUTORES ===\")\n",
    "        print(autores, \"\\n\")\n",
    "        print(\"=== RESUMO ===\")\n",
    "        print(resumo)\n",
    "        print(\"\\n\\n\")\n",
    "\n",
    "    except Exception as e:\n",
    "        print(f\"❌ Erro ao processar {url}: {e}\")\n"
   ]
  }
 ],
 "metadata": {
  "kernelspec": {
   "display_name": "Python 3 (ipykernel)",
   "language": "python",
   "name": "python3"
  },
  "language_info": {
   "codemirror_mode": {
    "name": "ipython",
    "version": 3
   },
   "file_extension": ".py",
   "mimetype": "text/x-python",
   "name": "python",
   "nbconvert_exporter": "python",
   "pygments_lexer": "ipython3",
   "version": "3.12.7"
  }
 },
 "nbformat": 4,
 "nbformat_minor": 5
}
